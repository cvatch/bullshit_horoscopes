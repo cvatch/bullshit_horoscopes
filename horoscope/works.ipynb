{
 "cells": [
  {
   "cell_type": "code",
   "execution_count": 3,
   "metadata": {
    "collapsed": true
   },
   "outputs": [],
   "source": [
    "import pandas as pd\n",
    "import os\n",
    "import json"
   ]
  },
  {
   "cell_type": "code",
   "execution_count": 4,
   "metadata": {
    "collapsed": false
   },
   "outputs": [],
   "source": [
    "all_jsons = []\n",
    "\n",
    "for f in [f for f in os.listdir('.') if 'json' in f]:\n",
    "    with open(f, 'r') as js:\n",
    "        all_jsons.append(json.load(js))"
   ]
  },
  {
   "cell_type": "code",
   "execution_count": 5,
   "metadata": {
    "collapsed": true
   },
   "outputs": [],
   "source": [
    "def merge_dicts(*dict_args):\n",
    "    '''\n",
    "    Given any number of dicts, shallow copy and merge into a new dict,\n",
    "    precedence goes to key value pairs in latter dicts.\n",
    "    '''\n",
    "    result = {}\n",
    "    for dictionary in dict_args:\n",
    "        result.update(dictionary)\n",
    "    return result"
   ]
  },
  {
   "cell_type": "code",
   "execution_count": 6,
   "metadata": {
    "collapsed": true
   },
   "outputs": [],
   "source": [
    "all_horoscopes = merge_dicts(*all_jsons)"
   ]
  },
  {
   "cell_type": "code",
   "execution_count": 5,
   "metadata": {
    "collapsed": false,
    "scrolled": true
   },
   "outputs": [
    {
     "name": "stdout",
     "output_type": "stream",
     "text": [
      "02.05.2016\n",
      "07.05.2016\n",
      "03.08.2016\n",
      "27.07.2016\n",
      "27.07.2016 None\n",
      "05.09.2016\n",
      "09.12.2015\n",
      "09.12.2015 None\n",
      "19.03.2016\n",
      "12.05.2016\n",
      "06.10.2015\n",
      "27.02.2016\n",
      "12.01.2016\n",
      "12.01.2016 None\n",
      "25.04.2016\n",
      "12.06.2016\n",
      "13.01.2016\n",
      "15.02.2016\n",
      "19.07.2016\n",
      "19.07.2016 None\n",
      "08.12.2015\n",
      "08.12.2015 None\n",
      "21.08.2016\n",
      "28.12.2015\n",
      "16.04.2016\n",
      "04.11.2015\n",
      "04.11.2015 None\n",
      "10.12.2015\n",
      "10.12.2015 None\n",
      "20.07.2016\n",
      "28.11.2015\n",
      "12.04.2016\n",
      "17.07.2016\n",
      "28.10.2016\n",
      "01.02.2016\n",
      "26.03.2016\n",
      "10.09.2015\n",
      "26.11.2015\n",
      "07.10.2015\n",
      "18.09.2016\n",
      "14.10.2016\n",
      "18.01.2016\n",
      "08.03.2016\n",
      "30.12.2015\n",
      "14.12.2015\n",
      "31.10.2015\n",
      "31.10.2015 None\n",
      "10.09.2016\n",
      "14.08.2016\n",
      "14.08.2016 None\n",
      "17.08.2016\n",
      "15.07.2016\n",
      "14.09.2015\n",
      "23.05.2016\n",
      "25.01.2016\n",
      "28.10.2015\n",
      "09.08.2016\n",
      "12.10.2015\n",
      "12.10.2015 None\n",
      "12.11.2015\n",
      "12.11.2015 None\n",
      "26.10.2015\n",
      "20.04.2016\n",
      "06.09.2016\n",
      "06.09.2016 None\n",
      "05.07.2016\n",
      "23.12.2015\n",
      "23.12.2015 None\n",
      "09.07.2016\n",
      "08.01.2016\n",
      "11.07.2016\n",
      "30.10.2016\n",
      "07.11.2016\n",
      "19.11.2016\n",
      "12.08.2016\n",
      "12.08.2016 None\n",
      "13.10.2016\n",
      "14.02.2016\n",
      "13.03.2016\n",
      "18.06.2016\n",
      "13.08.2016\n",
      "13.08.2016 None\n",
      "15.01.2016\n",
      "18.08.2016\n",
      "25.08.2016\n",
      "25.08.2016 None\n",
      "03.05.2016\n",
      "16.09.2015\n",
      "18.03.2016\n",
      "07.09.2016\n",
      "10.03.2016\n",
      "26.02.2016\n",
      "08.09.2016\n",
      "19.10.2016\n",
      "19.10.2016 None\n",
      "28.01.2016\n",
      "14.06.2016\n",
      "03.07.2016\n",
      "03.07.2016 None\n",
      "18.11.2015\n",
      "18.11.2015 None\n",
      "15.05.2016\n",
      "13.09.2016\n",
      "16.02.2016\n",
      "10.07.2016\n",
      "06.02.2016\n",
      "02.10.2016\n",
      "03.12.2015\n",
      "28.07.2016\n",
      "28.07.2016 None\n",
      "29.05.2016\n",
      "16.06.2016\n",
      "05.10.2016\n",
      "19.11.2015\n",
      "19.11.2015 None\n",
      "16.01.2016\n",
      "16.01.2016 None\n",
      "03.01.2016\n",
      "18.10.2016\n",
      "18.10.2016 None\n",
      "10.05.2016\n",
      "19.06.2016\n",
      "19.08.2016\n",
      "19.08.2016 None\n",
      "05.08.2016\n",
      "05.08.2016 None\n",
      "14.03.2016\n",
      "27.03.2016\n",
      "20.02.2016\n",
      "20.02.2016 None\n",
      "02.07.2016\n",
      "02.07.2016 None\n",
      "24.09.2016\n",
      "18.10.2015\n",
      "18.10.2015 None\n",
      "01.11.2015\n",
      "01.06.2016\n",
      "11.10.2015\n",
      "20.05.2016\n",
      "02.11.2016\n",
      "02.11.2016 None\n",
      "13.06.2016\n",
      "29.04.2016\n",
      "19.05.2016\n",
      "22.09.2015\n",
      "09.10.2016\n",
      "27.06.2016\n",
      "04.04.2016\n",
      "16.11.2015\n",
      "30.09.2015\n",
      "20.12.2015\n",
      "19.04.2016\n",
      "25.07.2016\n",
      "26.05.2016\n",
      "11.12.2015\n",
      "11.12.2015 None\n",
      "08.05.2016\n",
      "05.02.2016\n",
      "11.08.2016\n",
      "11.08.2016 None\n",
      "02.12.2015\n",
      "02.12.2015 None\n",
      "02.04.2016\n",
      "07.07.2016\n",
      "28.05.2016\n",
      "03.02.2016\n",
      "26.07.2016\n",
      "26.07.2016 None\n",
      "11.01.2016\n",
      "23.02.2016\n",
      "13.11.2016\n",
      "21.09.2015\n",
      "09.05.2016\n",
      "24.01.2016\n",
      "05.11.2016\n",
      "12.03.2016\n",
      "12.03.2016 None\n",
      "07.11.2015\n",
      "07.11.2015 None\n",
      "29.02.2016\n",
      "26.12.2015\n",
      "06.04.2016\n",
      "09.11.2016\n",
      "05.12.2015\n",
      "16.08.2016\n",
      "14.11.2015\n",
      "14.11.2015 None\n",
      "04.11.2016\n",
      "03.10.2015\n",
      "07.06.2016\n",
      "16.07.2016\n",
      "14.07.2016\n",
      "14.07.2016 None\n",
      "06.05.2016\n",
      "13.07.2016\n",
      "13.07.2016 None\n",
      "11.10.2016\n",
      "17.09.2016\n",
      "10.08.2016\n",
      "02.09.2015\n",
      "02.09.2015 None\n",
      "13.12.2015\n",
      "13.12.2015 None\n",
      "24.05.2016\n",
      "27.04.2016\n",
      "11.11.2015\n",
      "11.05.2016\n",
      "16.09.2016\n",
      "20.10.2015\n",
      "20.10.2015 None\n",
      "20.10.2016\n",
      "22.04.2016\n",
      "09.09.2015\n",
      "03.04.2016\n",
      "01.07.2016\n",
      "08.10.2015\n",
      "01.09.2016\n",
      "17.10.2015\n",
      "23.10.2016\n",
      "23.10.2016 None\n",
      "09.10.2015\n",
      "31.01.2016\n",
      "19.12.2015\n",
      "19.12.2015 None\n",
      "31.03.2016\n",
      "30.08.2015\n",
      "30.08.2015 None\n",
      "29.08.2015\n",
      "02.10.2015\n",
      "03.06.2016\n",
      "10.11.2016\n",
      "05.11.2015\n",
      "05.11.2015 None\n",
      "15.11.2015\n",
      "15.11.2015 None\n",
      "28.06.2016\n",
      "28.06.2016 None\n",
      "12.02.2016\n",
      "05.06.2016\n",
      "29.09.2015\n",
      "29.09.2015 None\n",
      "12.07.2016\n",
      "26.10.2016\n",
      "06.06.2016\n",
      "28.08.2016\n",
      "28.08.2016 None\n",
      "12.11.2016\n",
      "22.10.2016\n",
      "09.06.2016\n",
      "09.06.2016 None\n",
      "04.05.2016\n",
      "15.08.2016\n",
      "29.08.2016\n",
      "02.09.2016\n",
      "02.09.2016 None\n",
      "17.02.2016\n",
      "25.10.2016\n",
      "18.05.2016\n",
      "13.02.2016\n",
      "06.12.2015\n",
      "22.01.2016\n",
      "22.01.2016 None\n",
      "14.01.2016\n",
      "24.08.2016\n",
      "24.08.2016 None\n",
      "30.03.2016\n",
      "24.10.2016\n",
      "24.10.2016 None\n",
      "28.03.2016\n",
      "02.03.2016\n",
      "12.09.2015\n",
      "03.09.2016\n",
      "24.12.2015\n",
      "14.10.2015\n",
      "14.10.2015 None\n",
      "15.10.2015\n",
      "25.03.2016\n",
      "08.11.2015\n",
      "27.01.2016\n",
      "30.11.2015\n",
      "01.08.2016\n",
      "19.01.2016\n",
      "19.01.2016 None\n",
      "08.09.2015\n",
      "08.06.2016\n",
      "01.12.2015\n",
      "21.06.2016\n",
      "27.10.2015\n",
      "09.11.2015\n",
      "07.09.2015\n",
      "24.03.2016\n",
      "19.09.2016\n",
      "23.09.2016\n",
      "27.09.2016\n",
      "27.09.2016 None\n",
      "20.08.2016\n",
      "20.08.2016 None\n",
      "22.03.2016\n",
      "25.12.2015\n",
      "23.09.2015\n",
      "28.04.2016\n",
      "10.11.2015\n",
      "21.11.2015\n",
      "21.11.2015 None\n",
      "19.10.2015\n",
      "19.10.2015 None\n",
      "17.04.2016\n",
      "18.09.2015\n",
      "03.09.2015\n",
      "06.01.2016\n",
      "22.08.2016\n",
      "11.11.2016\n",
      "04.09.2015\n",
      "19.09.2015\n",
      "04.09.2016\n",
      "31.10.2016\n",
      "17.06.2016\n",
      "05.03.2016\n",
      "14.09.2016\n",
      "07.04.2016\n",
      "10.01.2016\n",
      "10.01.2016 None\n",
      "02.08.2016\n",
      "30.04.2016\n",
      "23.01.2016\n",
      "27.12.2015\n",
      "20.03.2016\n",
      "01.05.2016\n",
      "15.04.2016\n",
      "15.10.2016\n",
      "16.05.2016\n",
      "14.04.2016\n",
      "09.03.2016\n",
      "21.12.2015\n",
      "22.02.2016\n",
      "27.08.2016\n",
      "27.08.2016 None\n",
      "05.09.2015\n",
      "30.08.2016\n",
      "30.08.2016 None\n",
      "29.06.2016\n",
      "24.09.2015\n",
      "31.12.2015\n",
      "31.12.2015 None\n",
      "30.01.2016\n",
      "30.01.2016 None\n",
      "26.09.2015\n",
      "06.07.2016\n",
      "20.09.2015\n",
      "03.11.2016\n",
      "03.11.2016 None\n",
      "21.01.2016\n",
      "23.08.2016\n",
      "17.01.2016\n",
      "29.11.2015\n",
      "29.11.2015 None\n",
      "24.07.2016\n",
      "24.07.2016 None\n",
      "12.12.2015\n",
      "12.12.2015 None\n",
      "01.10.2016\n",
      "11.09.2016\n",
      "02.06.2016\n",
      "04.08.2016\n",
      "07.01.2016\n",
      "27.11.2015\n",
      "27.11.2015 None\n",
      "01.09.2015\n",
      "22.10.2015\n",
      "22.10.2015 None\n",
      "20.09.2016\n",
      "07.10.2016\n",
      "23.07.2016\n",
      "16.11.2016\n",
      "08.07.2016\n",
      "08.07.2016 None\n",
      "20.06.2016\n",
      "04.10.2015\n",
      "04.10.2015 None\n",
      "25.10.2015\n",
      "25.10.2015 None\n",
      "05.05.2016\n",
      "04.02.2016\n",
      "23.06.2016\n",
      "23.06.2016 None\n",
      "21.09.2016\n",
      "21.09.2016 None\n",
      "08.02.2016\n",
      "01.03.2016\n",
      "06.11.2015\n",
      "06.11.2015 None\n",
      "24.02.2016\n",
      "17.03.2016\n",
      "17.11.2015\n",
      "21.05.2016\n",
      "28.08.2015\n",
      "11.02.2016\n",
      "10.10.2015\n",
      "02.11.2015\n",
      "06.10.2016\n",
      "13.11.2015\n",
      "13.11.2015 None\n",
      "31.08.2015\n",
      "06.09.2015\n",
      "05.10.2015\n",
      "18.11.2016\n",
      "21.04.2016\n",
      "23.03.2016\n",
      "31.08.2016\n",
      "26.01.2016\n",
      "07.02.2016\n",
      "21.10.2015\n",
      "21.10.2015 None\n",
      "24.11.2015\n",
      "06.08.2016\n",
      "06.08.2016 None\n",
      "17.10.2016\n",
      "28.09.2015\n",
      "28.09.2015 None\n",
      "29.12.2015\n",
      "07.03.2016\n",
      "29.01.2016\n",
      "05.04.2016\n",
      "22.07.2016\n",
      "22.07.2016 None\n",
      "26.08.2016\n",
      "08.08.2016\n",
      "22.05.2016\n",
      "27.10.2016\n",
      "17.05.2016\n",
      "06.03.2016\n",
      "03.11.2015\n",
      "05.01.2016\n",
      "05.01.2016 None\n",
      "02.02.2016\n",
      "09.02.2016\n",
      "31.07.2016\n",
      "24.10.2015\n",
      "24.10.2015 None\n",
      "23.04.2016\n",
      "15.03.2016\n",
      "18.04.2016\n",
      "19.02.2016\n",
      "15.09.2015\n",
      "15.09.2015 None\n",
      "04.12.2015\n",
      "13.04.2016\n",
      "28.09.2016\n",
      "28.09.2016 None\n",
      "16.03.2016\n",
      "03.03.2016\n",
      "15.12.2015\n",
      "08.11.2016\n",
      "10.06.2016\n",
      "01.11.2016\n",
      "11.09.2015\n",
      "11.09.2015 None\n",
      "04.10.2016\n",
      "23.11.2015\n",
      "28.02.2016\n",
      "30.06.2016\n",
      "25.09.2015\n",
      "21.10.2016\n",
      "01.01.2016\n",
      "13.05.2016\n",
      "11.04.2016\n",
      "30.09.2016\n",
      "09.09.2016\n",
      "09.09.2016 None\n",
      "27.09.2015\n",
      "22.11.2015\n",
      "22.11.2015 None\n",
      "04.03.2016\n",
      "17.09.2015\n",
      "17.09.2015 None\n",
      "25.06.2016\n",
      "25.06.2016 None\n",
      "09.04.2016\n",
      "15.06.2016\n",
      "03.10.2016\n",
      "17.11.2016\n",
      "24.04.2016\n",
      "25.11.2015\n",
      "21.07.2016\n",
      "01.04.2016\n",
      "10.02.2016\n",
      "15.09.2016\n",
      "15.09.2016 None\n",
      "18.02.2016\n",
      "25.05.2016\n",
      "08.04.2016\n",
      "07.12.2015\n",
      "12.09.2016\n",
      "12.09.2016 None\n",
      "18.12.2015\n",
      "18.12.2015 None\n",
      "24.06.2016\n",
      "16.10.2015\n",
      "29.07.2016\n",
      "08.10.2016\n",
      "22.09.2016\n",
      "22.09.2016 None\n",
      "30.10.2015\n",
      "23.10.2015\n",
      "30.07.2016\n",
      "30.07.2016 None\n",
      "21.02.2016\n",
      "16.10.2016\n",
      "10.04.2016\n",
      "20.11.2015\n",
      "20.11.2015 None\n",
      "14.05.2016\n",
      "11.06.2016\n",
      "10.10.2016\n",
      "04.07.2016\n",
      "30.05.2016\n",
      "20.01.2016\n",
      "16.12.2015\n",
      "16.12.2015 None\n",
      "21.03.2016\n",
      "12.10.2016\n",
      "12.10.2016 None\n",
      "01.10.2015\n",
      "01.10.2015 None\n",
      "25.09.2016\n",
      "07.08.2016\n",
      "14.11.2016\n",
      "26.09.2016\n",
      "22.12.2015\n",
      "22.12.2015 None\n",
      "11.03.2016\n",
      "13.10.2015\n",
      "13.09.2015\n",
      "29.10.2015\n",
      "15.11.2016\n",
      "26.04.2016\n",
      "25.02.2016\n",
      "29.03.2016\n",
      "04.06.2016\n",
      "17.12.2015\n",
      "26.06.2016\n",
      "31.05.2016\n",
      "09.01.2016\n",
      "09.01.2016 None\n",
      "29.09.2016\n",
      "29.09.2016 None\n",
      "27.05.2016\n",
      "22.06.2016\n",
      "18.07.2016\n",
      "04.01.2016\n",
      "06.11.2016\n",
      "02.01.2016\n",
      "29.10.2016\n"
     ]
    }
   ],
   "source": [
    "import re\n",
    "for date in all_horoscopes:\n",
    "    print(date)\n",
    "    for zodiac in all_horoscopes[date]:\n",
    "        try:\n",
    "            new_zodiac = re.match(r'\\w+', zodiac)\n",
    "            if new_zodiac:\n",
    "                new_zodiac = new_zodiac.group()\n",
    "            all_horoscopes[date][new_zodiac] = all_horoscopes[date].pop(zodiac)\n",
    "        except:\n",
    "            print(date, zodiac)"
   ]
  },
  {
   "cell_type": "code",
   "execution_count": 57,
   "metadata": {
    "collapsed": false,
    "scrolled": true
   },
   "outputs": [],
   "source": [
    "raw_corpus = pd.DataFrame.from_dict(all_horoscopes, orient='index')"
   ]
  },
  {
   "cell_type": "code",
   "execution_count": 58,
   "metadata": {
    "collapsed": false
   },
   "outputs": [],
   "source": [
    "raw_corpus = horoscopy.stack().reset_index()[0].values"
   ]
  },
  {
   "cell_type": "code",
   "execution_count": 59,
   "metadata": {
    "collapsed": false,
    "scrolled": true
   },
   "outputs": [],
   "source": [
    "raw_corpus = [d for d in raw_corpus if d !='\\xa0']"
   ]
  },
  {
   "cell_type": "code",
   "execution_count": 60,
   "metadata": {
    "collapsed": false
   },
   "outputs": [],
   "source": [
    "raw_corpus = [d.replace('\\xa0', ' ') for d in raw_corpus]"
   ]
  },
  {
   "cell_type": "code",
   "execution_count": 61,
   "metadata": {
    "collapsed": true
   },
   "outputs": [],
   "source": [
    "import re"
   ]
  },
  {
   "cell_type": "code",
   "execution_count": 83,
   "metadata": {
    "collapsed": false
   },
   "outputs": [],
   "source": [
    "def split_into_sentences(doc):\n",
    "#     return re.findall(r'[A-Z].*?\\.', doc)\n",
    "    return tokenize.sent_tokenize(corpus[0], language='czech')\n",
    "\n",
    "\n",
    "def prepare_corpus(corpus):\n",
    "    prepared = []\n",
    "    for doc in corpus:\n",
    "        prepared.extend(nltk.sent_tokenize(doc, language='czech'))\n",
    "    return prepared\n",
    "\n",
    "def extract_first_word(sentence):\n",
    "    try:\n",
    "        first_word = re.compile(r'^\\w+')\n",
    "        return first_word.match(sentence).group()\n",
    "    except:\n",
    "        print(\"Fail {}\".format(sentence))"
   ]
  },
  {
   "cell_type": "code",
   "execution_count": 84,
   "metadata": {
    "collapsed": false
   },
   "outputs": [],
   "source": [
    "corpus = prepare_corpus(corpus)\n",
    "\n",
    "first_words = [extract_first_word(sentence) for sentence in corpus]\n",
    "\n",
    "first_words = pd.Series(first_words)\n",
    "\n",
    "first_words_counts = first_words.to_frame().reset_index().groupby(0).agg(len)\n",
    "\n",
    "first_words_counts.index.name = None\n",
    "\n",
    "first_words_counts['index'] = first_words_counts['index'].astype(int)\n",
    "\n",
    "first_words_counts['probability'] = first_words_counts['index'].apply(lambda x: x/first_words_counts['index'].sum())"
   ]
  },
  {
   "cell_type": "code",
   "execution_count": 137,
   "metadata": {
    "collapsed": false
   },
   "outputs": [],
   "source": [
    "first_word_probabilities = first_words_counts.drop('index', 1).to_dict()['probability']"
   ]
  },
  {
   "cell_type": "code",
   "execution_count": 34,
   "metadata": {
    "collapsed": false
   },
   "outputs": [],
   "source": [
    "from nltk import bigrams"
   ]
  },
  {
   "cell_type": "code",
   "execution_count": 142,
   "metadata": {
    "collapsed": false
   },
   "outputs": [
    {
     "data": {
      "text/plain": [
       "['Pokud',\n",
       " 'to',\n",
       " 'přeženete',\n",
       " 's',\n",
       " 'dnešním',\n",
       " 'programem',\n",
       " 'a',\n",
       " 'počtem',\n",
       " 'návštěv',\n",
       " ',',\n",
       " 'budete',\n",
       " 'odpoledne',\n",
       " 'unavení',\n",
       " 'a',\n",
       " 'bez',\n",
       " 'jiskry',\n",
       " '.']"
      ]
     },
     "execution_count": 142,
     "metadata": {},
     "output_type": "execute_result"
    }
   ],
   "source": [
    "nltk.word_tokenize(corpus[0], language='czech')"
   ]
  },
  {
   "cell_type": "code",
   "execution_count": 139,
   "metadata": {
    "collapsed": true
   },
   "outputs": [],
   "source": [
    "from collections import defaultdict"
   ]
  },
  {
   "cell_type": "code",
   "execution_count": 146,
   "metadata": {
    "collapsed": false
   },
   "outputs": [
    {
     "data": {
      "text/plain": [
       "'Pokud to přeženete s dnešním programem a počtem návštěv, budete odpoledne unavení a bez jiskry.'"
      ]
     },
     "execution_count": 146,
     "metadata": {},
     "output_type": "execute_result"
    }
   ],
   "source": [
    "corpus[0]"
   ]
  },
  {
   "cell_type": "code",
   "execution_count": 151,
   "metadata": {
    "collapsed": true
   },
   "outputs": [],
   "source": [
    "words = defaultdict(lambda: defaultdict(int))"
   ]
  },
  {
   "cell_type": "code",
   "execution_count": 171,
   "metadata": {
    "collapsed": false
   },
   "outputs": [],
   "source": [
    "fdist = nltk.FreqDist()\n",
    "\n",
    "for sentence in corpus_sentences:\n",
    "    fdist.update(nltk.bigrams([w for w in nltk.word_tokenize(sentence, language='czech') if w != ',']))\n",
    "\n",
    "word_counts = pd.DataFrame.from_dict(dict(fdist), orient='index').reset_index()#.rename(columns={'index', 'bigram'})\n",
    "\n",
    "word_counts[['word1', 'word2']] = word_counts['index'].apply(pd.Series)\n",
    "\n",
    "word_counts = word_counts[['word1','word2',0]]\n",
    "\n",
    "word_counts = word_counts.rename(columns={0:'count'})\n",
    "\n",
    "word_counts['count'] = word_counts['count'].astype(int)"
   ]
  },
  {
   "cell_type": "code",
   "execution_count": 228,
   "metadata": {
    "collapsed": false
   },
   "outputs": [],
   "source": [
    "word_probabilities = word_counts.groupby('word1').apply(lambda group: group['count']/sum(group['count']))\n",
    "\n",
    "word_counts = word_counts.reset_index().set_index(['word1', 'index'])"
   ]
  },
  {
   "cell_type": "code",
   "execution_count": 241,
   "metadata": {
    "collapsed": false,
    "scrolled": true
   },
   "outputs": [],
   "source": [
    "word_counts['probabilities'] = word_probabilities"
   ]
  },
  {
   "cell_type": "code",
   "execution_count": null,
   "metadata": {
    "collapsed": true
   },
   "outputs": [],
   "source": [
    "words_cumsum = word_counts.groupby('word1')['probabilities'].cumsum()"
   ]
  },
  {
   "cell_type": "code",
   "execution_count": 247,
   "metadata": {
    "collapsed": false
   },
   "outputs": [],
   "source": [
    "word_probs_cleaned = word_counts.reset_index().drop(['index','count'], 1)"
   ]
  },
  {
   "cell_type": "code",
   "execution_count": null,
   "metadata": {
    "collapsed": true
   },
   "outputs": [],
   "source": [
    "final_probs = defaultdict(lambda: defaultdict())"
   ]
  },
  {
   "cell_type": "code",
   "execution_count": 262,
   "metadata": {
    "collapsed": false
   },
   "outputs": [
    {
     "data": {
      "text/html": [
       "<div>\n",
       "<table border=\"1\" class=\"dataframe\">\n",
       "  <thead>\n",
       "    <tr style=\"text-align: right;\">\n",
       "      <th></th>\n",
       "      <th>word1</th>\n",
       "      <th>word2</th>\n",
       "      <th>probabilities</th>\n",
       "    </tr>\n",
       "  </thead>\n",
       "  <tbody>\n",
       "    <tr>\n",
       "      <th>0</th>\n",
       "      <td>Víc</td>\n",
       "      <td>dbejte</td>\n",
       "      <td>0.500000</td>\n",
       "    </tr>\n",
       "    <tr>\n",
       "      <th>1</th>\n",
       "      <td>se</td>\n",
       "      <td>faktů</td>\n",
       "      <td>0.000237</td>\n",
       "    </tr>\n",
       "    <tr>\n",
       "      <th>2</th>\n",
       "      <td>poradit</td>\n",
       "      <td>a</td>\n",
       "      <td>0.125000</td>\n",
       "    </tr>\n",
       "    <tr>\n",
       "      <th>3</th>\n",
       "      <td>neříkejte</td>\n",
       "      <td>to</td>\n",
       "      <td>0.200000</td>\n",
       "    </tr>\n",
       "    <tr>\n",
       "      <th>4</th>\n",
       "      <td>spokojený</td>\n",
       "      <td>den</td>\n",
       "      <td>0.500000</td>\n",
       "    </tr>\n",
       "  </tbody>\n",
       "</table>\n",
       "</div>"
      ],
      "text/plain": [
       "       word1   word2  probabilities\n",
       "0        Víc  dbejte       0.500000\n",
       "1         se   faktů       0.000237\n",
       "2    poradit       a       0.125000\n",
       "3  neříkejte      to       0.200000\n",
       "4  spokojený     den       0.500000"
      ]
     },
     "execution_count": 262,
     "metadata": {},
     "output_type": "execute_result"
    }
   ],
   "source": [
    "word_probs_cleaned.head()#.groupby('word1').apply(lambda grp: grp.to_dict(orient='index'))#.to_dict(orient='records')"
   ]
  },
  {
   "cell_type": "code",
   "execution_count": 266,
   "metadata": {
    "collapsed": true
   },
   "outputs": [],
   "source": [
    "final_probs = defaultdict(dict)"
   ]
  },
  {
   "cell_type": "code",
   "execution_count": 267,
   "metadata": {
    "collapsed": false
   },
   "outputs": [],
   "source": [
    "for i, (w1, w2, prob) in word_probs_cleaned.iterrows():\n",
    "    final_probs[w1][w2] = prob"
   ]
  },
  {
   "cell_type": "code",
   "execution_count": 271,
   "metadata": {
    "collapsed": true
   },
   "outputs": [],
   "source": [
    "import random\n",
    "\n",
    "def get_first_word(first_word_probabilities):\n",
    "    val = random.random()\n",
    "#     print(\"Radnom val {}\".format(val))\n",
    "    cumsum = 0\n",
    "    for word, prob in first_word_probabilities.items():\n",
    "        cumsum += prob\n",
    "#         print(\"cumsum {}\".format(cumsum))\n",
    "#         print(\"prob {}\".format(prob))\n",
    "        if val <= cumsum:\n",
    "            return word\n",
    "        "
   ]
  },
  {
   "cell_type": "code",
   "execution_count": 359,
   "metadata": {
    "collapsed": false
   },
   "outputs": [
    {
     "data": {
      "text/plain": [
       "'Držet'"
      ]
     },
     "execution_count": 359,
     "metadata": {},
     "output_type": "execute_result"
    }
   ],
   "source": [
    "get_first_word(first_word_probabilities)"
   ]
  },
  {
   "cell_type": "code",
   "execution_count": 362,
   "metadata": {
    "collapsed": false
   },
   "outputs": [],
   "source": [
    "def create_sentence(final_probs, first_word_probabilities):\n",
    "    sentence = get_first_word(first_word_probabilities)\n",
    "    previous_word = sentence\n",
    "    size = 1\n",
    "    while previous_word != '.' or size < 10:\n",
    "        previous_word = get_next_word(previous_word, final_probs)\n",
    "        sentence += ' {}'.format(previous_word)\n",
    "        size += 1\n",
    "    return sentence\n",
    "    \n",
    "    \n",
    "\n",
    "def get_next_word(previous_word, final_probs):\n",
    "    val = random.random()\n",
    "#     print(\"Radnom val {}\".format(val))\n",
    "    cumsum = 0\n",
    "    for word, prob in final_probs[previous_word].items():\n",
    "        cumsum += prob\n",
    "#         print(\"cumsum {}\".format(cumsum))\n",
    "#         print(\"prob {}\".format(prob))\n",
    "        if val <= cumsum:\n",
    "            return word"
   ]
  },
  {
   "cell_type": "code",
   "execution_count": 371,
   "metadata": {
    "collapsed": false
   },
   "outputs": [
    {
     "data": {
      "text/plain": [
       "'Vliv postavení Jupiteru s opačným pohlavím se setkáte s kým si odskočit a ochoty by urychlila pomoc známému kterému neuváženě svěřili nějaké dřívější nedorozumění s Marsem předejdete dlouhé jednání s pracemi .'"
      ]
     },
     "execution_count": 371,
     "metadata": {},
     "output_type": "execute_result"
    }
   ],
   "source": [
    "create_sentence(final_probs, first_word_probabilities)"
   ]
  },
  {
   "cell_type": "code",
   "execution_count": 373,
   "metadata": {
    "collapsed": true
   },
   "outputs": [],
   "source": [
    "def create_horoscope(size):\n",
    "    horoscope = ''\n",
    "    for _ in range(size):\n",
    "        horoscope += create_sentence(final_probs, first_word_probabilities)\n",
    "    return horoscope"
   ]
  },
  {
   "cell_type": "code",
   "execution_count": 386,
   "metadata": {
    "collapsed": false
   },
   "outputs": [],
   "source": [
    "import multiprocessing as mp\n",
    "\n",
    "with mp.Pool(4) as pool:\n",
    "    results = pool.map_async(create_horoscope, [1,1,1,1])\n",
    "    results.get()"
   ]
  },
  {
   "cell_type": "code",
   "execution_count": 390,
   "metadata": {
    "collapsed": false
   },
   "outputs": [
    {
     "data": {
      "text/plain": [
       "['Fakt že to hned spalovat všechny svoje intimní problémy vydobudete si na neohlášené návštěvy večírku nebo přáteli .',\n",
       " 'Slibně se víc odvahy a podezřívavostí vůči neposlušným dětem .',\n",
       " 'Chtít víc o něco zbytečně handrkovat musíte zajít a hazardní hry s něčím novým nápadům a sobectví a přijmout podezřelé .',\n",
       " 'Konkurenci nepřátele i příbuzných sehraje vaše peníze a přání .']"
      ]
     },
     "execution_count": 390,
     "metadata": {},
     "output_type": "execute_result"
    }
   ],
   "source": [
    "results.get()"
   ]
  },
  {
   "cell_type": "markdown",
   "metadata": {},
   "source": [
    "# Filozof"
   ]
  },
  {
   "cell_type": "code",
   "execution_count": null,
   "metadata": {
    "collapsed": true
   },
   "outputs": [],
   "source": []
  }
 ],
 "metadata": {
  "kernelspec": {
   "display_name": "Python 3",
   "language": "python",
   "name": "python3"
  },
  "language_info": {
   "codemirror_mode": {
    "name": "ipython",
    "version": 3
   },
   "file_extension": ".py",
   "mimetype": "text/x-python",
   "name": "python",
   "nbconvert_exporter": "python",
   "pygments_lexer": "ipython3",
   "version": "3.5.1"
  }
 },
 "nbformat": 4,
 "nbformat_minor": 0
}
